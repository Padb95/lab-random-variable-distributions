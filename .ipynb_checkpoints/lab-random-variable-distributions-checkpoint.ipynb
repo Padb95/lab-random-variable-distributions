{
 "cells": [
  {
   "cell_type": "code",
   "execution_count": 1,
   "id": "1f2e177a-19d0-4374-a589-3b176dc2ba1b",
   "metadata": {},
   "outputs": [],
   "source": [
    "import pandas as pd\n",
    "import numpy as np"
   ]
  },
  {
   "cell_type": "code",
   "execution_count": null,
   "id": "b9bf4321-9e26-41aa-a7a7-9ee99c7459e9",
   "metadata": {},
   "outputs": [],
   "source": [
    "data = pd.read_(r\"C:\\Users\\HP\\Desktop\\Iron Hack\\Python\\Classes\\Revisiting Machine Learning Case Study\\learningSet.txt\")\n",
    "data"
   ]
  },
  {
   "cell_type": "code",
   "execution_count": null,
   "id": "83cb9fb4-92dd-4982-9e53-7a953110b0b2",
   "metadata": {},
   "outputs": [],
   "source": []
  },
  {
   "cell_type": "code",
   "execution_count": null,
   "id": "6e4ac05b-7b6b-45af-8933-6880b8c1730e",
   "metadata": {},
   "outputs": [],
   "source": []
  },
  {
   "cell_type": "code",
   "execution_count": null,
   "id": "679dd416-81d4-4293-9cbf-64a6a6eaf48a",
   "metadata": {},
   "outputs": [],
   "source": []
  },
  {
   "cell_type": "code",
   "execution_count": null,
   "id": "7eb243c9-ae35-4a6a-a244-e83803c96fee",
   "metadata": {},
   "outputs": [],
   "source": []
  },
  {
   "cell_type": "code",
   "execution_count": null,
   "id": "fe541a2d-0e15-46aa-b6b0-e678cd9f4152",
   "metadata": {},
   "outputs": [],
   "source": []
  },
  {
   "cell_type": "code",
   "execution_count": null,
   "id": "90a3b62d-bd69-4438-b59d-ddf460651287",
   "metadata": {},
   "outputs": [],
   "source": []
  },
  {
   "cell_type": "code",
   "execution_count": null,
   "id": "b2a8a81f-24b8-4024-b10b-f7e5eeb15c8c",
   "metadata": {},
   "outputs": [],
   "source": []
  },
  {
   "cell_type": "code",
   "execution_count": null,
   "id": "33f15b51-1340-4125-9914-8a56fa9b7dad",
   "metadata": {},
   "outputs": [],
   "source": []
  },
  {
   "cell_type": "code",
   "execution_count": null,
   "id": "068a634d-8ec7-42bf-bdd2-a531db093c41",
   "metadata": {},
   "outputs": [],
   "source": []
  },
  {
   "cell_type": "code",
   "execution_count": null,
   "id": "df13b447-2e48-4edd-941d-9d751a85703c",
   "metadata": {},
   "outputs": [],
   "source": []
  }
 ],
 "metadata": {
  "kernelspec": {
   "display_name": "Python 3 (ipykernel)",
   "language": "python",
   "name": "python3"
  },
  "language_info": {
   "codemirror_mode": {
    "name": "ipython",
    "version": 3
   },
   "file_extension": ".py",
   "mimetype": "text/x-python",
   "name": "python",
   "nbconvert_exporter": "python",
   "pygments_lexer": "ipython3",
   "version": "3.11.7"
  }
 },
 "nbformat": 4,
 "nbformat_minor": 5
}
